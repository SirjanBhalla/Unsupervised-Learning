{
 "cells": [
  {
   "cell_type": "code",
   "execution_count": 1,
   "metadata": {
    "executionInfo": {
     "elapsed": 983,
     "status": "ok",
     "timestamp": 1618210791602,
     "user": {
      "displayName": "Sudhanshu Saxena",
      "photoUrl": "https://lh3.googleusercontent.com/a-/AOh14GgXoHC7f8eyt9KmLq76zEQR3uNJJoUN0CAngHUdJM8=s64",
      "userId": "06805949978483919255"
     },
     "user_tz": -330
    },
    "id": "0c9edcdd"
   },
   "outputs": [],
   "source": [
    "import pandas as pd\n",
    "import numpy as np\n",
    "import matplotlib.pyplot as plt"
   ]
  },
  {
   "cell_type": "code",
   "execution_count": 2,
   "metadata": {
    "executionInfo": {
     "elapsed": 1250,
     "status": "ok",
     "timestamp": 1618210791900,
     "user": {
      "displayName": "Sudhanshu Saxena",
      "photoUrl": "https://lh3.googleusercontent.com/a-/AOh14GgXoHC7f8eyt9KmLq76zEQR3uNJJoUN0CAngHUdJM8=s64",
      "userId": "06805949978483919255"
     },
     "user_tz": -330
    },
    "id": "f218affd"
   },
   "outputs": [],
   "source": [
    "import keras\n",
    "from keras.datasets import mnist"
   ]
  },
  {
   "cell_type": "code",
   "execution_count": 3,
   "metadata": {
    "executionInfo": {
     "elapsed": 1687,
     "status": "ok",
     "timestamp": 1618210792341,
     "user": {
      "displayName": "Sudhanshu Saxena",
      "photoUrl": "https://lh3.googleusercontent.com/a-/AOh14GgXoHC7f8eyt9KmLq76zEQR3uNJJoUN0CAngHUdJM8=s64",
      "userId": "06805949978483919255"
     },
     "user_tz": -330
    },
    "id": "d3841e77"
   },
   "outputs": [],
   "source": [
    "(X_train,y_train), (X_test, y_test) = mnist.load_data(\"mnist.npz\")"
   ]
  },
  {
   "cell_type": "code",
   "execution_count": 4,
   "metadata": {
    "colab": {
     "base_uri": "https://localhost:8080/"
    },
    "executionInfo": {
     "elapsed": 1676,
     "status": "ok",
     "timestamp": 1618210792342,
     "user": {
      "displayName": "Sudhanshu Saxena",
      "photoUrl": "https://lh3.googleusercontent.com/a-/AOh14GgXoHC7f8eyt9KmLq76zEQR3uNJJoUN0CAngHUdJM8=s64",
      "userId": "06805949978483919255"
     },
     "user_tz": -330
    },
    "id": "993e0332",
    "outputId": "a7283c7c-0106-4ece-9bc8-ef755c9e25b7"
   },
   "outputs": [
    {
     "data": {
      "text/plain": [
       "(60000, 28, 28)"
      ]
     },
     "execution_count": 4,
     "metadata": {},
     "output_type": "execute_result"
    }
   ],
   "source": [
    "X_train.shape"
   ]
  },
  {
   "cell_type": "code",
   "execution_count": 5,
   "metadata": {
    "colab": {
     "base_uri": "https://localhost:8080/"
    },
    "executionInfo": {
     "elapsed": 1667,
     "status": "ok",
     "timestamp": 1618210792343,
     "user": {
      "displayName": "Sudhanshu Saxena",
      "photoUrl": "https://lh3.googleusercontent.com/a-/AOh14GgXoHC7f8eyt9KmLq76zEQR3uNJJoUN0CAngHUdJM8=s64",
      "userId": "06805949978483919255"
     },
     "user_tz": -330
    },
    "id": "0831760a",
    "outputId": "e6c8263d-05bc-47d6-f6c2-ad675baf1c03"
   },
   "outputs": [
    {
     "data": {
      "text/plain": [
       "(10000, 28, 28)"
      ]
     },
     "execution_count": 5,
     "metadata": {},
     "output_type": "execute_result"
    }
   ],
   "source": [
    "X_test.shape"
   ]
  },
  {
   "cell_type": "code",
   "execution_count": 6,
   "metadata": {
    "colab": {
     "base_uri": "https://localhost:8080/"
    },
    "executionInfo": {
     "elapsed": 1657,
     "status": "ok",
     "timestamp": 1618210792344,
     "user": {
      "displayName": "Sudhanshu Saxena",
      "photoUrl": "https://lh3.googleusercontent.com/a-/AOh14GgXoHC7f8eyt9KmLq76zEQR3uNJJoUN0CAngHUdJM8=s64",
      "userId": "06805949978483919255"
     },
     "user_tz": -330
    },
    "id": "749701ef",
    "outputId": "d2abf761-9f8c-470f-c016-bc8f6dc05f66"
   },
   "outputs": [
    {
     "data": {
      "text/plain": [
       "array([[  0,   0,   0,   0,   0,   0,   0,   0,   0,   0,   0,   0,   0,\n",
       "          0,   0,   0,   0,   0,   0,   0,   0,   0,   0,   0,   0,   0,\n",
       "          0,   0],\n",
       "       [  0,   0,   0,   0,   0,   0,   0,   0,   0,   0,   0,   0,   0,\n",
       "          0,   0,   0,   0,   0,   0,   0,   0,   0,   0,   0,   0,   0,\n",
       "          0,   0],\n",
       "       [  0,   0,   0,   0,   0,   0,   0,   0,   0,   0,   0,   0,   0,\n",
       "          0,   0,   0,   0,   0,   0,   0,   0,   0,   0,   0,   0,   0,\n",
       "          0,   0],\n",
       "       [  0,   0,   0,   0,   0,   0,   0,   0,   0,   0,   0,   0,   0,\n",
       "          0,   0,   0,   0,   0,   0,   0,   0,   0,   0,   0,   0,   0,\n",
       "          0,   0],\n",
       "       [  0,   0,   0,   0,   0,   0,   0,   0,   0,   0,   0,   0,   0,\n",
       "          0,   0,   0,   0,   0,   0,   0,   0,   0,   0,   0,   0,   0,\n",
       "          0,   0],\n",
       "       [  0,   0,   0,   0,   0,   0,   0,   0,   0,   0,   0,   0,   3,\n",
       "         18,  18,  18, 126, 136, 175,  26, 166, 255, 247, 127,   0,   0,\n",
       "          0,   0],\n",
       "       [  0,   0,   0,   0,   0,   0,   0,   0,  30,  36,  94, 154, 170,\n",
       "        253, 253, 253, 253, 253, 225, 172, 253, 242, 195,  64,   0,   0,\n",
       "          0,   0],\n",
       "       [  0,   0,   0,   0,   0,   0,   0,  49, 238, 253, 253, 253, 253,\n",
       "        253, 253, 253, 253, 251,  93,  82,  82,  56,  39,   0,   0,   0,\n",
       "          0,   0],\n",
       "       [  0,   0,   0,   0,   0,   0,   0,  18, 219, 253, 253, 253, 253,\n",
       "        253, 198, 182, 247, 241,   0,   0,   0,   0,   0,   0,   0,   0,\n",
       "          0,   0],\n",
       "       [  0,   0,   0,   0,   0,   0,   0,   0,  80, 156, 107, 253, 253,\n",
       "        205,  11,   0,  43, 154,   0,   0,   0,   0,   0,   0,   0,   0,\n",
       "          0,   0],\n",
       "       [  0,   0,   0,   0,   0,   0,   0,   0,   0,  14,   1, 154, 253,\n",
       "         90,   0,   0,   0,   0,   0,   0,   0,   0,   0,   0,   0,   0,\n",
       "          0,   0],\n",
       "       [  0,   0,   0,   0,   0,   0,   0,   0,   0,   0,   0, 139, 253,\n",
       "        190,   2,   0,   0,   0,   0,   0,   0,   0,   0,   0,   0,   0,\n",
       "          0,   0],\n",
       "       [  0,   0,   0,   0,   0,   0,   0,   0,   0,   0,   0,  11, 190,\n",
       "        253,  70,   0,   0,   0,   0,   0,   0,   0,   0,   0,   0,   0,\n",
       "          0,   0],\n",
       "       [  0,   0,   0,   0,   0,   0,   0,   0,   0,   0,   0,   0,  35,\n",
       "        241, 225, 160, 108,   1,   0,   0,   0,   0,   0,   0,   0,   0,\n",
       "          0,   0],\n",
       "       [  0,   0,   0,   0,   0,   0,   0,   0,   0,   0,   0,   0,   0,\n",
       "         81, 240, 253, 253, 119,  25,   0,   0,   0,   0,   0,   0,   0,\n",
       "          0,   0],\n",
       "       [  0,   0,   0,   0,   0,   0,   0,   0,   0,   0,   0,   0,   0,\n",
       "          0,  45, 186, 253, 253, 150,  27,   0,   0,   0,   0,   0,   0,\n",
       "          0,   0],\n",
       "       [  0,   0,   0,   0,   0,   0,   0,   0,   0,   0,   0,   0,   0,\n",
       "          0,   0,  16,  93, 252, 253, 187,   0,   0,   0,   0,   0,   0,\n",
       "          0,   0],\n",
       "       [  0,   0,   0,   0,   0,   0,   0,   0,   0,   0,   0,   0,   0,\n",
       "          0,   0,   0,   0, 249, 253, 249,  64,   0,   0,   0,   0,   0,\n",
       "          0,   0],\n",
       "       [  0,   0,   0,   0,   0,   0,   0,   0,   0,   0,   0,   0,   0,\n",
       "          0,  46, 130, 183, 253, 253, 207,   2,   0,   0,   0,   0,   0,\n",
       "          0,   0],\n",
       "       [  0,   0,   0,   0,   0,   0,   0,   0,   0,   0,   0,   0,  39,\n",
       "        148, 229, 253, 253, 253, 250, 182,   0,   0,   0,   0,   0,   0,\n",
       "          0,   0],\n",
       "       [  0,   0,   0,   0,   0,   0,   0,   0,   0,   0,  24, 114, 221,\n",
       "        253, 253, 253, 253, 201,  78,   0,   0,   0,   0,   0,   0,   0,\n",
       "          0,   0],\n",
       "       [  0,   0,   0,   0,   0,   0,   0,   0,  23,  66, 213, 253, 253,\n",
       "        253, 253, 198,  81,   2,   0,   0,   0,   0,   0,   0,   0,   0,\n",
       "          0,   0],\n",
       "       [  0,   0,   0,   0,   0,   0,  18, 171, 219, 253, 253, 253, 253,\n",
       "        195,  80,   9,   0,   0,   0,   0,   0,   0,   0,   0,   0,   0,\n",
       "          0,   0],\n",
       "       [  0,   0,   0,   0,  55, 172, 226, 253, 253, 253, 253, 244, 133,\n",
       "         11,   0,   0,   0,   0,   0,   0,   0,   0,   0,   0,   0,   0,\n",
       "          0,   0],\n",
       "       [  0,   0,   0,   0, 136, 253, 253, 253, 212, 135, 132,  16,   0,\n",
       "          0,   0,   0,   0,   0,   0,   0,   0,   0,   0,   0,   0,   0,\n",
       "          0,   0],\n",
       "       [  0,   0,   0,   0,   0,   0,   0,   0,   0,   0,   0,   0,   0,\n",
       "          0,   0,   0,   0,   0,   0,   0,   0,   0,   0,   0,   0,   0,\n",
       "          0,   0],\n",
       "       [  0,   0,   0,   0,   0,   0,   0,   0,   0,   0,   0,   0,   0,\n",
       "          0,   0,   0,   0,   0,   0,   0,   0,   0,   0,   0,   0,   0,\n",
       "          0,   0],\n",
       "       [  0,   0,   0,   0,   0,   0,   0,   0,   0,   0,   0,   0,   0,\n",
       "          0,   0,   0,   0,   0,   0,   0,   0,   0,   0,   0,   0,   0,\n",
       "          0,   0]], dtype=uint8)"
      ]
     },
     "execution_count": 6,
     "metadata": {},
     "output_type": "execute_result"
    }
   ],
   "source": [
    "X_train[0]"
   ]
  },
  {
   "cell_type": "code",
   "execution_count": 7,
   "metadata": {
    "colab": {
     "base_uri": "https://localhost:8080/",
     "height": 282
    },
    "executionInfo": {
     "elapsed": 2109,
     "status": "ok",
     "timestamp": 1618210792807,
     "user": {
      "displayName": "Sudhanshu Saxena",
      "photoUrl": "https://lh3.googleusercontent.com/a-/AOh14GgXoHC7f8eyt9KmLq76zEQR3uNJJoUN0CAngHUdJM8=s64",
      "userId": "06805949978483919255"
     },
     "user_tz": -330
    },
    "id": "82f02b9d",
    "outputId": "1517581f-84ae-42e1-a9bb-e5b323754b5d"
   },
   "outputs": [
    {
     "data": {
      "text/plain": [
       "<matplotlib.image.AxesImage at 0x265d6aaa100>"
      ]
     },
     "execution_count": 7,
     "metadata": {},
     "output_type": "execute_result"
    },
    {
     "data": {
      "image/png": "[encoded data removed]",
      "text/plain": [
       "<Figure size 432x288 with 1 Axes>"
      ]
     },
     "metadata": {
      "needs_background": "light"
     },
     "output_type": "display_data"
    }
   ],
   "source": [
    "plt.imshow(X_train[875], cmap= 'gray')"
   ]
  },
  {
   "cell_type": "code",
   "execution_count": 8,
   "metadata": {
    "executionInfo": {
     "elapsed": 2111,
     "status": "ok",
     "timestamp": 1618210792815,
     "user": {
      "displayName": "Sudhanshu Saxena",
      "photoUrl": "https://lh3.googleusercontent.com/a-/AOh14GgXoHC7f8eyt9KmLq76zEQR3uNJJoUN0CAngHUdJM8=s64",
      "userId": "06805949978483919255"
     },
     "user_tz": -330
    },
    "id": "f081db35"
   },
   "outputs": [],
   "source": [
    "X_train = X_train.reshape(-1,28*28)\n",
    "X_test = X_test.reshape(-1,28*28)"
   ]
  },
  {
   "cell_type": "code",
   "execution_count": 9,
   "metadata": {
    "colab": {
     "base_uri": "https://localhost:8080/"
    },
    "executionInfo": {
     "elapsed": 2104,
     "status": "ok",
     "timestamp": 1618210792817,
     "user": {
      "displayName": "Sudhanshu Saxena",
      "photoUrl": "https://lh3.googleusercontent.com/a-/AOh14GgXoHC7f8eyt9KmLq76zEQR3uNJJoUN0CAngHUdJM8=s64",
      "userId": "06805949978483919255"
     },
     "user_tz": -330
    },
    "id": "532954dc",
    "outputId": "eb844196-51e8-4d7b-e963-c5c7bf3c1488"
   },
   "outputs": [
    {
     "data": {
      "text/plain": [
       "(60000, 784)"
      ]
     },
     "execution_count": 9,
     "metadata": {},
     "output_type": "execute_result"
    }
   ],
   "source": [
    "X_train.shape"
   ]
  },
  {
   "cell_type": "code",
   "execution_count": 10,
   "metadata": {
    "colab": {
     "base_uri": "https://localhost:8080/"
    },
    "executionInfo": {
     "elapsed": 2105,
     "status": "ok",
     "timestamp": 1618210792828,
     "user": {
      "displayName": "Sudhanshu Saxena",
      "photoUrl": "https://lh3.googleusercontent.com/a-/AOh14GgXoHC7f8eyt9KmLq76zEQR3uNJJoUN0CAngHUdJM8=s64",
      "userId": "06805949978483919255"
     },
     "user_tz": -330
    },
    "id": "f7b9c71e",
    "outputId": "c6a5c4d3-75a6-4d80-80e3-78a561b4e3db"
   },
   "outputs": [
    {
     "data": {
      "text/plain": [
       "array([  0,   0,   0,   0,   0,   0,   0,   0,   0,   0,   0,   0,   0,\n",
       "         0,   0,   0,   0,   0,   0,   0,   0,   0,   0,   0,   0,   0,\n",
       "         0,   0,   0,   0,   0,   0,   0,   0,   0,   0,   0,   0,   0,\n",
       "         0,   0,   0,   0,   0,   0,   0,   0,   0,   0,   0,   0,   0,\n",
       "         0,   0,   0,   0,   0,   0,   0,   0,   0,   0,   0,   0,   0,\n",
       "         0,   0,   0,   0,   0,   0,   0,   0,   0,   0,   0,   0,   0,\n",
       "         0,   0,   0,   0,   0,   0,   0,   0,   0,   0,   0,   0,   0,\n",
       "         0,   0,   0,   0,   0,   0,   0,   0,   0,   0,   0,   0,   0,\n",
       "         0,   0,   0,   0,   0,   0,   0,   0,   0,   0,   0,   0,   0,\n",
       "         0,   0,   0,   0,   0,   0,   0,   0,   0,   0,   0,   0,   0,\n",
       "         0,   0,   0,   0,   0,   0,   0,   0,   0,   0,   0,   0,   0,\n",
       "         0,   0,   0,   0,   0,   0,   0,   0,   0,   3,  18,  18,  18,\n",
       "       126, 136, 175,  26, 166, 255, 247, 127,   0,   0,   0,   0,   0,\n",
       "         0,   0,   0,   0,   0,   0,   0,  30,  36,  94, 154, 170, 253,\n",
       "       253, 253, 253, 253, 225, 172, 253, 242, 195,  64,   0,   0,   0,\n",
       "         0,   0,   0,   0,   0,   0,   0,   0,  49, 238, 253, 253, 253,\n",
       "       253, 253, 253, 253, 253, 251,  93,  82,  82,  56,  39,   0,   0,\n",
       "         0,   0,   0,   0,   0,   0,   0,   0,   0,   0,  18, 219, 253,\n",
       "       253, 253, 253, 253, 198, 182, 247, 241,   0,   0,   0,   0,   0,\n",
       "         0,   0,   0,   0,   0,   0,   0,   0,   0,   0,   0,   0,   0,\n",
       "        80, 156, 107, 253, 253, 205,  11,   0,  43, 154,   0,   0,   0,\n",
       "         0,   0,   0,   0,   0,   0,   0,   0,   0,   0,   0,   0,   0,\n",
       "         0,   0,   0,  14,   1, 154, 253,  90,   0,   0,   0,   0,   0,\n",
       "         0,   0,   0,   0,   0,   0,   0,   0,   0,   0,   0,   0,   0,\n",
       "         0,   0,   0,   0,   0,   0,   0, 139, 253, 190,   2,   0,   0,\n",
       "         0,   0,   0,   0,   0,   0,   0,   0,   0,   0,   0,   0,   0,\n",
       "         0,   0,   0,   0,   0,   0,   0,   0,   0,  11, 190, 253,  70,\n",
       "         0,   0,   0,   0,   0,   0,   0,   0,   0,   0,   0,   0,   0,\n",
       "         0,   0,   0,   0,   0,   0,   0,   0,   0,   0,   0,   0,  35,\n",
       "       241, 225, 160, 108,   1,   0,   0,   0,   0,   0,   0,   0,   0,\n",
       "         0,   0,   0,   0,   0,   0,   0,   0,   0,   0,   0,   0,   0,\n",
       "         0,   0,  81, 240, 253, 253, 119,  25,   0,   0,   0,   0,   0,\n",
       "         0,   0,   0,   0,   0,   0,   0,   0,   0,   0,   0,   0,   0,\n",
       "         0,   0,   0,   0,   0,  45, 186, 253, 253, 150,  27,   0,   0,\n",
       "         0,   0,   0,   0,   0,   0,   0,   0,   0,   0,   0,   0,   0,\n",
       "         0,   0,   0,   0,   0,   0,   0,   0,  16,  93, 252, 253, 187,\n",
       "         0,   0,   0,   0,   0,   0,   0,   0,   0,   0,   0,   0,   0,\n",
       "         0,   0,   0,   0,   0,   0,   0,   0,   0,   0,   0,   0, 249,\n",
       "       253, 249,  64,   0,   0,   0,   0,   0,   0,   0,   0,   0,   0,\n",
       "         0,   0,   0,   0,   0,   0,   0,   0,   0,   0,   0,  46, 130,\n",
       "       183, 253, 253, 207,   2,   0,   0,   0,   0,   0,   0,   0,   0,\n",
       "         0,   0,   0,   0,   0,   0,   0,   0,   0,   0,   0,  39, 148,\n",
       "       229, 253, 253, 253, 250, 182,   0,   0,   0,   0,   0,   0,   0,\n",
       "         0,   0,   0,   0,   0,   0,   0,   0,   0,   0,   0,  24, 114,\n",
       "       221, 253, 253, 253, 253, 201,  78,   0,   0,   0,   0,   0,   0,\n",
       "         0,   0,   0,   0,   0,   0,   0,   0,   0,   0,   0,  23,  66,\n",
       "       213, 253, 253, 253, 253, 198,  81,   2,   0,   0,   0,   0,   0,\n",
       "         0,   0,   0,   0,   0,   0,   0,   0,   0,   0,   0,  18, 171,\n",
       "       219, 253, 253, 253, 253, 195,  80,   9,   0,   0,   0,   0,   0,\n",
       "         0,   0,   0,   0,   0,   0,   0,   0,   0,   0,   0,  55, 172,\n",
       "       226, 253, 253, 253, 253, 244, 133,  11,   0,   0,   0,   0,   0,\n",
       "         0,   0,   0,   0,   0,   0,   0,   0,   0,   0,   0,   0,   0,\n",
       "       136, 253, 253, 253, 212, 135, 132,  16,   0,   0,   0,   0,   0,\n",
       "         0,   0,   0,   0,   0,   0,   0,   0,   0,   0,   0,   0,   0,\n",
       "         0,   0,   0,   0,   0,   0,   0,   0,   0,   0,   0,   0,   0,\n",
       "         0,   0,   0,   0,   0,   0,   0,   0,   0,   0,   0,   0,   0,\n",
       "         0,   0,   0,   0,   0,   0,   0,   0,   0,   0,   0,   0,   0,\n",
       "         0,   0,   0,   0,   0,   0,   0,   0,   0,   0,   0,   0,   0,\n",
       "         0,   0,   0,   0,   0,   0,   0,   0,   0,   0,   0,   0,   0,\n",
       "         0,   0,   0,   0,   0,   0,   0,   0,   0,   0,   0,   0,   0,\n",
       "         0,   0,   0,   0], dtype=uint8)"
      ]
     },
     "execution_count": 10,
     "metadata": {},
     "output_type": "execute_result"
    }
   ],
   "source": [
    "X_train[0]"
   ]
  },
  {
   "cell_type": "code",
   "execution_count": 11,
   "metadata": {
    "executionInfo": {
     "elapsed": 2121,
     "status": "ok",
     "timestamp": 1618210792847,
     "user": {
      "displayName": "Sudhanshu Saxena",
      "photoUrl": "https://lh3.googleusercontent.com/a-/AOh14GgXoHC7f8eyt9KmLq76zEQR3uNJJoUN0CAngHUdJM8=s64",
      "userId": "06805949978483919255"
     },
     "user_tz": -330
    },
    "id": "a771d85a"
   },
   "outputs": [],
   "source": [
    "from keras.utils.np_utils import to_categorical"
   ]
  },
  {
   "cell_type": "code",
   "execution_count": 12,
   "metadata": {
    "executionInfo": {
     "elapsed": 2121,
     "status": "ok",
     "timestamp": 1618210792852,
     "user": {
      "displayName": "Sudhanshu Saxena",
      "photoUrl": "https://lh3.googleusercontent.com/a-/AOh14GgXoHC7f8eyt9KmLq76zEQR3uNJJoUN0CAngHUdJM8=s64",
      "userId": "06805949978483919255"
     },
     "user_tz": -330
    },
    "id": "2f54d94d"
   },
   "outputs": [],
   "source": [
    "y_train_cat = to_categorical(y_train)\n",
    "y_test_cat = to_categorical(y_test)"
   ]
  },
  {
   "cell_type": "code",
   "execution_count": 13,
   "metadata": {
    "colab": {
     "base_uri": "https://localhost:8080/"
    },
    "executionInfo": {
     "elapsed": 2111,
     "status": "ok",
     "timestamp": 1618210792853,
     "user": {
      "displayName": "Sudhanshu Saxena",
      "photoUrl": "https://lh3.googleusercontent.com/a-/AOh14GgXoHC7f8eyt9KmLq76zEQR3uNJJoUN0CAngHUdJM8=s64",
      "userId": "06805949978483919255"
     },
     "user_tz": -330
    },
    "id": "a0c9bd6d",
    "outputId": "4e009079-a573-48e2-f751-007e2f12b28d"
   },
   "outputs": [
    {
     "data": {
      "text/plain": [
       "(10000, 10)"
      ]
     },
     "execution_count": 13,
     "metadata": {},
     "output_type": "execute_result"
    }
   ],
   "source": [
    "y_test_cat.shape"
   ]
  },
  {
   "cell_type": "code",
   "execution_count": 14,
   "metadata": {
    "colab": {
     "base_uri": "https://localhost:8080/"
    },
    "executionInfo": {
     "elapsed": 2100,
     "status": "ok",
     "timestamp": 1618210792855,
     "user": {
      "displayName": "Sudhanshu Saxena",
      "photoUrl": "https://lh3.googleusercontent.com/a-/AOh14GgXoHC7f8eyt9KmLq76zEQR3uNJJoUN0CAngHUdJM8=s64",
      "userId": "06805949978483919255"
     },
     "user_tz": -330
    },
    "id": "12440110",
    "outputId": "d6b0da21-72ad-460b-9c8f-fe8a470115ce"
   },
   "outputs": [
    {
     "data": {
      "text/plain": [
       "array([7, 2, 1, ..., 4, 5, 6], dtype=uint8)"
      ]
     },
     "execution_count": 14,
     "metadata": {},
     "output_type": "execute_result"
    }
   ],
   "source": [
    "y_test"
   ]
  },
  {
   "cell_type": "code",
   "execution_count": 15,
   "metadata": {
    "colab": {
     "base_uri": "https://localhost:8080/"
    },
    "executionInfo": {
     "elapsed": 2093,
     "status": "ok",
     "timestamp": 1618210792858,
     "user": {
      "displayName": "Sudhanshu Saxena",
      "photoUrl": "https://lh3.googleusercontent.com/a-/AOh14GgXoHC7f8eyt9KmLq76zEQR3uNJJoUN0CAngHUdJM8=s64",
      "userId": "06805949978483919255"
     },
     "user_tz": -330
    },
    "id": "225ce824",
    "outputId": "cc1c3784-216a-4fdf-94be-bde3b6ce6a4d"
   },
   "outputs": [
    {
     "data": {
      "text/plain": [
       "2"
      ]
     },
     "execution_count": 15,
     "metadata": {},
     "output_type": "execute_result"
    }
   ],
   "source": [
    "y_train[5]"
   ]
  },
  {
   "cell_type": "markdown",
   "metadata": {
    "id": "6f9faf18"
   },
   "source": [
    "# Lets Create the Full CNN"
   ]
  },
  {
   "cell_type": "code",
   "execution_count": 16,
   "metadata": {
    "executionInfo": {
     "elapsed": 2092,
     "status": "ok",
     "timestamp": 1618210792861,
     "user": {
      "displayName": "Sudhanshu Saxena",
      "photoUrl": "https://lh3.googleusercontent.com/a-/AOh14GgXoHC7f8eyt9KmLq76zEQR3uNJJoUN0CAngHUdJM8=s64",
      "userId": "06805949978483919255"
     },
     "user_tz": -330
    },
    "id": "e0656859"
   },
   "outputs": [],
   "source": [
    "from keras.models import Sequential\n",
    "from keras.layers import Dense\n",
    "import keras.backend as K"
   ]
  },
  {
   "cell_type": "code",
   "execution_count": 17,
   "metadata": {
    "executionInfo": {
     "elapsed": 2095,
     "status": "ok",
     "timestamp": 1618210792867,
     "user": {
      "displayName": "Sudhanshu Saxena",
      "photoUrl": "https://lh3.googleusercontent.com/a-/AOh14GgXoHC7f8eyt9KmLq76zEQR3uNJJoUN0CAngHUdJM8=s64",
      "userId": "06805949978483919255"
     },
     "user_tz": -330
    },
    "id": "4057b214"
   },
   "outputs": [],
   "source": [
    "K.clear_session()"
   ]
  },
  {
   "cell_type": "code",
   "execution_count": 18,
   "metadata": {
    "executionInfo": {
     "elapsed": 2094,
     "status": "ok",
     "timestamp": 1618210792869,
     "user": {
      "displayName": "Sudhanshu Saxena",
      "photoUrl": "https://lh3.googleusercontent.com/a-/AOh14GgXoHC7f8eyt9KmLq76zEQR3uNJJoUN0CAngHUdJM8=s64",
      "userId": "06805949978483919255"
     },
     "user_tz": -330
    },
    "id": "ddb0fbaf"
   },
   "outputs": [],
   "source": [
    "model = Sequential()\n",
    "model.add(Dense(512, input_dim = 28*28, activation = 'relu'))\n",
    "model.add(Dense(256,activation = 'relu' ))\n",
    "model.add(Dense(128,activation = 'relu' ))\n",
    "model.add(Dense(32,activation = 'relu' ))\n",
    "model.add(Dense(10,activation = 'softmax'))\n",
    "model.compile(loss = 'categorical_crossentropy', optimizer = 'rmsprop', metrics= ['accuracy'])"
   ]
  },
  {
   "cell_type": "code",
   "execution_count": 19,
   "metadata": {
    "colab": {
     "base_uri": "https://localhost:8080/"
    },
    "executionInfo": {
     "elapsed": 65584,
     "status": "ok",
     "timestamp": 1618210856363,
     "user": {
      "displayName": "Sudhanshu Saxena",
      "photoUrl": "https://lh3.googleusercontent.com/a-/AOh14GgXoHC7f8eyt9KmLq76zEQR3uNJJoUN0CAngHUdJM8=s64",
      "userId": "06805949978483919255"
     },
     "user_tz": -330
    },
    "id": "303ae994",
    "outputId": "e0cce4da-175b-48cb-989b-b56faade1e28"
   },
   "outputs": [
    {
     "name": "stdout",
     "output_type": "stream",
     "text": [
      "Epoch 1/20\n",
      "352/352 [==============================] - 6s 15ms/step - loss: 9.0415 - accuracy: 0.2723 - val_loss: 2.0133 - val_accuracy: 0.2919\n",
      "Epoch 2/20\n",
      "352/352 [==============================] - 4s 12ms/step - loss: 1.9584 - accuracy: 0.2773 - val_loss: 1.8539 - val_accuracy: 0.2778\n",
      "Epoch 3/20\n",
      "352/352 [==============================] - 4s 12ms/step - loss: 1.8404 - accuracy: 0.2950 - val_loss: 1.7853 - val_accuracy: 0.3034\n",
      "Epoch 4/20\n",
      "352/352 [==============================] - 4s 13ms/step - loss: 1.8000 - accuracy: 0.3030 - val_loss: 1.7522 - val_accuracy: 0.3020\n",
      "Epoch 5/20\n",
      "352/352 [==============================] - 4s 12ms/step - loss: 1.6928 - accuracy: 0.3509 - val_loss: 1.5961 - val_accuracy: 0.3897\n",
      "Epoch 6/20\n",
      "352/352 [==============================] - 4s 11ms/step - loss: 1.5174 - accuracy: 0.4138 - val_loss: 1.1351 - val_accuracy: 0.5811\n",
      "Epoch 7/20\n",
      "352/352 [==============================] - 4s 11ms/step - loss: 1.1236 - accuracy: 0.5921 - val_loss: 1.1307 - val_accuracy: 0.6049\n",
      "Epoch 8/20\n",
      "352/352 [==============================] - 4s 12ms/step - loss: 0.9064 - accuracy: 0.6729 - val_loss: 0.7914 - val_accuracy: 0.7137\n",
      "Epoch 9/20\n",
      "352/352 [==============================] - 4s 11ms/step - loss: 0.6202 - accuracy: 0.7916 - val_loss: 0.5680 - val_accuracy: 0.8283\n",
      "Epoch 10/20\n",
      "352/352 [==============================] - 4s 12ms/step - loss: 0.4861 - accuracy: 0.8414 - val_loss: 0.5343 - val_accuracy: 0.8077\n",
      "Epoch 11/20\n",
      "352/352 [==============================] - 4s 12ms/step - loss: 0.3701 - accuracy: 0.8797 - val_loss: 0.3762 - val_accuracy: 0.9088\n",
      "Epoch 12/20\n",
      "352/352 [==============================] - 4s 13ms/step - loss: 0.2574 - accuracy: 0.9511 - val_loss: 0.3130 - val_accuracy: 0.9504\n",
      "Epoch 13/20\n",
      "352/352 [==============================] - 4s 12ms/step - loss: 0.2077 - accuracy: 0.9614 - val_loss: 0.2802 - val_accuracy: 0.9456\n",
      "Epoch 14/20\n",
      "352/352 [==============================] - 5s 15ms/step - loss: 0.1867 - accuracy: 0.9642 - val_loss: 0.3683 - val_accuracy: 0.9556\n",
      "Epoch 15/20\n",
      "352/352 [==============================] - 5s 14ms/step - loss: 0.1770 - accuracy: 0.9694 - val_loss: 0.6003 - val_accuracy: 0.9580\n",
      "Epoch 16/20\n",
      "352/352 [==============================] - 5s 14ms/step - loss: 0.1671 - accuracy: 0.9732 - val_loss: 0.3516 - val_accuracy: 0.9505\n",
      "Epoch 17/20\n",
      "352/352 [==============================] - 5s 14ms/step - loss: 0.1482 - accuracy: 0.9738 - val_loss: 0.3718 - val_accuracy: 0.9531\n",
      "Epoch 18/20\n",
      "352/352 [==============================] - 5s 14ms/step - loss: 0.1465 - accuracy: 0.9759 - val_loss: 0.3774 - val_accuracy: 0.9538\n",
      "Epoch 19/20\n",
      "352/352 [==============================] - 4s 12ms/step - loss: 0.1401 - accuracy: 0.9763 - val_loss: 0.4195 - val_accuracy: 0.9649\n",
      "Epoch 20/20\n",
      "352/352 [==============================] - 4s 12ms/step - loss: 0.1325 - accuracy: 0.9786 - val_loss: 0.3497 - val_accuracy: 0.9640\n"
     ]
    }
   ],
   "source": [
    "h = model.fit(X_train,y_train_cat, batch_size= 128, epochs = 20, verbose = 1, validation_split= .25)"
   ]
  },
  {
   "cell_type": "code",
   "execution_count": 20,
   "metadata": {
    "colab": {
     "base_uri": "https://localhost:8080/"
    },
    "executionInfo": {
     "elapsed": 65570,
     "status": "ok",
     "timestamp": 1618210856365,
     "user": {
      "displayName": "Sudhanshu Saxena",
      "photoUrl": "https://lh3.googleusercontent.com/a-/AOh14GgXoHC7f8eyt9KmLq76zEQR3uNJJoUN0CAngHUdJM8=s64",
      "userId": "06805949978483919255"
     },
     "user_tz": -330
    },
    "id": "ffd47c67",
    "outputId": "d54e1e79-7897-429b-def2-5ab0dc324fad"
   },
   "outputs": [
    {
     "name": "stdout",
     "output_type": "stream",
     "text": [
      "dict_keys(['loss', 'accuracy', 'val_loss', 'val_accuracy'])\n"
     ]
    }
   ],
   "source": [
    "print(h.history.keys())"
   ]
  },
  {
   "cell_type": "code",
   "execution_count": 21,
   "metadata": {
    "colab": {
     "base_uri": "https://localhost:8080/",
     "height": 312
    },
    "executionInfo": {
     "elapsed": 999,
     "status": "ok",
     "timestamp": 1618210936433,
     "user": {
      "displayName": "Sudhanshu Saxena",
      "photoUrl": "https://lh3.googleusercontent.com/a-/AOh14GgXoHC7f8eyt9KmLq76zEQR3uNJJoUN0CAngHUdJM8=s64",
      "userId": "06805949978483919255"
     },
     "user_tz": -330
    },
    "id": "88e5f4bb",
    "outputId": "225320c7-ca90-455f-dc8f-449d9240edc9"
   },
   "outputs": [
    {
     "data": {
      "text/plain": [
       "Text(0.5, 0, 'Epochs')"
      ]
     },
     "execution_count": 21,
     "metadata": {},
     "output_type": "execute_result"
    },
    {
     "data": {
      "image/png": "[encoded data removed]",
      "text/plain": [
       "<Figure size 432x288 with 1 Axes>"
      ]
     },
     "metadata": {
      "needs_background": "light"
     },
     "output_type": "display_data"
    }
   ],
   "source": [
    "plt.plot(h.history['accuracy'])\n",
    "plt.plot(h.history['val_accuracy'])\n",
    "\n",
    "plt.legend(['Training', 'Testing'])\n",
    "\n",
    "plt.title('Accuracy')\n",
    "plt.xlabel('Epochs')"
   ]
  },
  {
   "cell_type": "code",
   "execution_count": 22,
   "metadata": {
    "colab": {
     "base_uri": "https://localhost:8080/"
    },
    "executionInfo": {
     "elapsed": 1938,
     "status": "ok",
     "timestamp": 1618210983713,
     "user": {
      "displayName": "Sudhanshu Saxena",
      "photoUrl": "https://lh3.googleusercontent.com/a-/AOh14GgXoHC7f8eyt9KmLq76zEQR3uNJJoUN0CAngHUdJM8=s64",
      "userId": "06805949978483919255"
     },
     "user_tz": -330
    },
    "id": "mKaKyQeW41IS",
    "outputId": "2f515cec-6761-42f9-b4fb-7b4953108f97"
   },
   "outputs": [
    {
     "name": "stdout",
     "output_type": "stream",
     "text": [
      "313/313 [==============================] - 0s 1ms/step - loss: 0.4876 - accuracy: 0.9652\n"
     ]
    }
   ],
   "source": [
    "test_accuracy = model.evaluate(X_test, y_test_cat)"
   ]
  },
  {
   "cell_type": "code",
   "execution_count": 23,
   "metadata": {
    "colab": {
     "base_uri": "https://localhost:8080/"
    },
    "executionInfo": {
     "elapsed": 834,
     "status": "ok",
     "timestamp": 1618210996809,
     "user": {
      "displayName": "Sudhanshu Saxena",
      "photoUrl": "https://lh3.googleusercontent.com/a-/AOh14GgXoHC7f8eyt9KmLq76zEQR3uNJJoUN0CAngHUdJM8=s64",
      "userId": "06805949978483919255"
     },
     "user_tz": -330
    },
    "id": "Q5yGm5oi5Acf",
    "outputId": "406e2dae-42a4-42ae-f552-c285e72cf148"
   },
   "outputs": [
    {
     "data": {
      "text/plain": [
       "0.9652000069618225"
      ]
     },
     "execution_count": 23,
     "metadata": {},
     "output_type": "execute_result"
    }
   ],
   "source": [
    "test_accuracy[1]"
   ]
  },
  {
   "cell_type": "code",
   "execution_count": 24,
   "metadata": {
    "id": "6HkV4LP15B9q"
   },
   "outputs": [],
   "source": [
    "K.clear_session()"
   ]
  },
  {
   "cell_type": "code",
   "execution_count": 25,
   "metadata": {},
   "outputs": [],
   "source": [
    "model = Sequential()\n",
    "model.add(Dense(512, input_dim = 28*28, activation = 'relu'))\n",
    "model.add(Dense(256,activation = 'relu' ))\n",
    "model.add(Dense(128,activation = 'relu' ))\n",
    "model.add(Dense(64,activation = 'relu' ))\n",
    "model.add(Dense(32,activation = 'relu' ))\n",
    "model.add(Dense(10,activation = 'softmax'))\n",
    "model.compile(loss = 'categorical_crossentropy', optimizer = 'rmsprop', metrics= ['accuracy'])"
   ]
  },
  {
   "cell_type": "code",
   "execution_count": 26,
   "metadata": {},
   "outputs": [
    {
     "name": "stdout",
     "output_type": "stream",
     "text": [
      "Epoch 1/20\n",
      "352/352 [==============================] - 6s 13ms/step - loss: 7.1512 - accuracy: 0.6953 - val_loss: 0.2712 - val_accuracy: 0.9295\n",
      "Epoch 2/20\n",
      "352/352 [==============================] - 5s 15ms/step - loss: 0.2356 - accuracy: 0.9390 - val_loss: 0.2484 - val_accuracy: 0.9334\n",
      "Epoch 3/20\n",
      "352/352 [==============================] - 5s 15ms/step - loss: 0.1644 - accuracy: 0.9585 - val_loss: 0.2360 - val_accuracy: 0.9437\n",
      "Epoch 4/20\n",
      "352/352 [==============================] - 5s 14ms/step - loss: 0.1290 - accuracy: 0.9675 - val_loss: 0.2210 - val_accuracy: 0.9546\n",
      "Epoch 5/20\n",
      "352/352 [==============================] - 4s 12ms/step - loss: 0.1124 - accuracy: 0.9719 - val_loss: 0.1792 - val_accuracy: 0.9640\n",
      "Epoch 6/20\n",
      "352/352 [==============================] - 5s 13ms/step - loss: 0.0957 - accuracy: 0.9764 - val_loss: 0.2275 - val_accuracy: 0.9537\n",
      "Epoch 7/20\n",
      "352/352 [==============================] - 5s 14ms/step - loss: 0.0851 - accuracy: 0.9797 - val_loss: 0.1958 - val_accuracy: 0.9682\n",
      "Epoch 8/20\n",
      "352/352 [==============================] - 5s 14ms/step - loss: 0.0786 - accuracy: 0.9822 - val_loss: 0.1824 - val_accuracy: 0.9569\n",
      "Epoch 9/20\n",
      "352/352 [==============================] - 5s 15ms/step - loss: 0.0764 - accuracy: 0.9822 - val_loss: 0.2071 - val_accuracy: 0.9615\n",
      "Epoch 10/20\n",
      "352/352 [==============================] - 4s 13ms/step - loss: 0.0727 - accuracy: 0.9843 - val_loss: 0.2333 - val_accuracy: 0.9714\n",
      "Epoch 11/20\n",
      "352/352 [==============================] - 4s 11ms/step - loss: 0.0674 - accuracy: 0.9869 - val_loss: 0.2657 - val_accuracy: 0.9647\n",
      "Epoch 12/20\n",
      "352/352 [==============================] - 4s 11ms/step - loss: 0.0688 - accuracy: 0.9866 - val_loss: 0.2553 - val_accuracy: 0.9713\n",
      "Epoch 13/20\n",
      "352/352 [==============================] - 4s 13ms/step - loss: 0.0640 - accuracy: 0.9877 - val_loss: 0.2428 - val_accuracy: 0.9733\n",
      "Epoch 14/20\n",
      "352/352 [==============================] - 5s 14ms/step - loss: 0.0606 - accuracy: 0.9884 - val_loss: 0.3279 - val_accuracy: 0.9727\n",
      "Epoch 15/20\n",
      "352/352 [==============================] - 5s 15ms/step - loss: 0.0561 - accuracy: 0.9893 - val_loss: 0.4446 - val_accuracy: 0.9725\n",
      "Epoch 16/20\n",
      "352/352 [==============================] - 6s 16ms/step - loss: 0.0783 - accuracy: 0.9897 - val_loss: 0.4948 - val_accuracy: 0.9710\n",
      "Epoch 17/20\n",
      "352/352 [==============================] - 5s 15ms/step - loss: 0.0580 - accuracy: 0.9894 - val_loss: 0.5505 - val_accuracy: 0.9564\n",
      "Epoch 18/20\n",
      "352/352 [==============================] - 4s 13ms/step - loss: 0.0667 - accuracy: 0.9903 - val_loss: 0.5174 - val_accuracy: 0.9645\n",
      "Epoch 19/20\n",
      "352/352 [==============================] - 5s 14ms/step - loss: 0.0552 - accuracy: 0.9914 - val_loss: 0.6464 - val_accuracy: 0.9669\n",
      "Epoch 20/20\n",
      "352/352 [==============================] - 5s 14ms/step - loss: 0.0592 - accuracy: 0.9910 - val_loss: 0.5815 - val_accuracy: 0.9632\n"
     ]
    }
   ],
   "source": [
    "h = model.fit(X_train,y_train_cat, batch_size= 128, epochs = 20, verbose = 1, validation_split= .25)"
   ]
  },
  {
   "cell_type": "code",
   "execution_count": 27,
   "metadata": {},
   "outputs": [
    {
     "data": {
      "text/plain": [
       "Text(0.5, 0, 'Epochs')"
      ]
     },
     "execution_count": 27,
     "metadata": {},
     "output_type": "execute_result"
    },
    {
     "data": {
      "image/png": "[encoded data removed]",
      "text/plain": [
       "<Figure size 432x288 with 1 Axes>"
      ]
     },
     "metadata": {
      "needs_background": "light"
     },
     "output_type": "display_data"
    }
   ],
   "source": [
    "plt.plot(h.history['accuracy'])\n",
    "plt.plot(h.history['val_accuracy'])\n",
    "\n",
    "plt.legend(['Training', 'Testing'])\n",
    "\n",
    "plt.title('Accuracy')\n",
    "plt.xlabel('Epochs')"
   ]
  },
  {
   "cell_type": "code",
   "execution_count": 28,
   "metadata": {},
   "outputs": [
    {
     "name": "stdout",
     "output_type": "stream",
     "text": [
      "313/313 [==============================] - 1s 2ms/step - loss: 0.5381 - accuracy: 0.9627\n"
     ]
    }
   ],
   "source": [
    "test_accuracy = model.evaluate(X_test, y_test_cat)"
   ]
  },
  {
   "cell_type": "code",
   "execution_count": 29,
   "metadata": {},
   "outputs": [
    {
     "data": {
      "text/plain": [
       "0.9627000093460083"
      ]
     },
     "execution_count": 29,
     "metadata": {},
     "output_type": "execute_result"
    }
   ],
   "source": [
    "test_accuracy[1]"
   ]
  },
  {
   "cell_type": "code",
   "execution_count": 30,
   "metadata": {},
   "outputs": [
    {
     "name": "stdout",
     "output_type": "stream",
     "text": [
      "2.4.3\n"
     ]
    }
   ],
   "source": [
    "print(keras.__version__)"
   ]
  },
  {
   "cell_type": "code",
   "execution_count": null,
   "metadata": {},
   "outputs": [],
   "source": []
  }
 ],
 "metadata": {
  "colab": {
   "collapsed_sections": [],
   "name": "CU_CNN_creating_ML_from_DL_CNN.ipynb",
   "provenance": []
  },
  "kernelspec": {
   "display_name": "Python 3",
   "language": "python",
   "name": "python3"
  },
  "language_info": {
   "codemirror_mode": {
    "name": "ipython",
    "version": 3
   },
   "file_extension": ".py",
   "mimetype": "text/x-python",
   "name": "python",
   "nbconvert_exporter": "python",
   "pygments_lexer": "ipython3",
   "version": "3.8.3"
  }
 },
 "nbformat": 4,
 "nbformat_minor": 5
}
